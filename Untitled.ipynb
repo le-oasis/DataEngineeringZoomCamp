{
 "cells": [
  {
   "cell_type": "code",
   "execution_count": 3,
   "id": "e3a9a8d2-364e-41d5-ba2b-143dd2e0c793",
   "metadata": {},
   "outputs": [
    {
     "name": "stdout",
     "output_type": "stream",
     "text": [
      "Collecting pyarrow\n",
      "  Downloading pyarrow-15.0.0-cp312-cp312-manylinux_2_28_x86_64.whl.metadata (3.0 kB)\n",
      "Requirement already satisfied: numpy<2,>=1.16.6 in /home/gitpod/.pyenv/versions/3.12.1/lib/python3.12/site-packages (from pyarrow) (1.26.3)\n",
      "Downloading pyarrow-15.0.0-cp312-cp312-manylinux_2_28_x86_64.whl (38.3 MB)\n",
      "\u001b[2K   \u001b[38;2;114;156;31m━━━━━━━━━━━━━━━━━━━━━━━━━━━━━━━━━━━━━━━━\u001b[0m \u001b[32m38.3/38.3 MB\u001b[0m \u001b[31m49.2 MB/s\u001b[0m eta \u001b[36m0:00:00\u001b[0m0m eta \u001b[36m0:00:01\u001b[0m:01\u001b[0m:01\u001b[0mm\n",
      "\u001b[?25hInstalling collected packages: pyarrow\n",
      "Successfully installed pyarrow-15.0.0\n",
      "Note: you may need to restart the kernel to use updated packages.\n"
     ]
    }
   ],
   "source": [
    "pip install pyarrow"
   ]
  },
  {
   "cell_type": "code",
   "execution_count": 4,
   "id": "ece3eedc-6c29-404c-8919-460b066200e6",
   "metadata": {},
   "outputs": [],
   "source": [
    "import pandas as pd"
   ]
  },
  {
   "cell_type": "code",
   "execution_count": 5,
   "id": "969d5eeb-379c-4abd-9640-94796b291681",
   "metadata": {},
   "outputs": [
    {
     "data": {
      "text/plain": [
       "'2.2.0'"
      ]
     },
     "execution_count": 5,
     "metadata": {},
     "output_type": "execute_result"
    }
   ],
   "source": [
    "pd.__version__"
   ]
  },
  {
   "cell_type": "code",
   "execution_count": 6,
   "id": "cdb3e0b0-ded6-4c79-859c-e74a6c74475a",
   "metadata": {},
   "outputs": [
    {
     "name": "stderr",
     "output_type": "stream",
     "text": [
      "/tmp/ipykernel_19597/626425485.py:1: DtypeWarning: Columns (3) have mixed types. Specify dtype option on import or set low_memory=False.\n",
      "  df = pd.read_csv(\"data/green_tripdata_2019-09.csv\")\n"
     ]
    }
   ],
   "source": [
    "df = pd.read_csv(\"data/green_tripdata_2019-09.csv\")"
   ]
  },
  {
   "cell_type": "code",
   "execution_count": 9,
   "id": "0e5a0c1b-a3f2-4765-b903-46539cc440be",
   "metadata": {},
   "outputs": [
    {
     "name": "stdout",
     "output_type": "stream",
     "text": [
      "VendorID,lpep_pickup_datetime,lpep_dropoff_datetime,store_and_fwd_flag,RatecodeID,PULocationID,DOLocationID,passenger_count,trip_distance,fare_amount,extra,mta_tax,tip_amount,tolls_amount,ehail_fee,improvement_surcharge,total_amount,payment_type,trip_type,congestion_surcharge\n",
      "2,2019-09-01 00:10:53,2019-09-01 00:23:46,N,1,65,189,5,2.00,10.5,0.5,0.5,2.36,0,,0.3,14.16,1,1,0\n",
      "2,2019-09-01 00:31:22,2019-09-01 00:44:37,N,1,97,225,5,3.20,12,0.5,0.5,0,0,,0.3,13.3,2,1,0\n",
      "2,2019-09-01 00:50:24,2019-09-01 01:03:20,N,1,37,61,5,2.99,12,0.5,0.5,0,0,,0.3,13.3,2,1,0\n",
      "2,2019-09-01 00:27:06,2019-09-01 00:33:22,N,1,145,112,1,1.73,7.5,0.5,0.5,1.5,0,,0.3,10.3,1,1,0\n",
      "2,2019-09-01 00:43:23,2019-09-01 00:59:54,N,1,112,198,1,3.42,14,0.5,0.5,3.06,0,,0.3,18.36,1,1,0\n",
      "2,2019-09-01 00:55:37,2019-09-01 01:17:02,N,1,7,41,1,6.26,21,0.5,0.5,0,6.12,,0.3,28.42,2,1,0\n",
      "2,2019-09-01 00:28:55,2019-09-01 00:52:09,N,1,33,37,1,4.34,18,0.5,0.5,3.86,0,,0.3,23.16,1,1,0\n",
      "1,2019-09-01 00:03:13,2019-09-01 00:03:32,N,1,55,55,1,1.20,2.5,0.5,0.5,0,0,,0.3,3.8,3,1,0\n",
      "1,2019-09-01 00:15:28,2019-09-01 00:43:22,N,1,55,89,1,.00,22.2,0,0.5,0,0,,0.3,23,1,1,0\n"
     ]
    }
   ],
   "source": [
    "! head \"data/green_tripdata_2019-09.csv\""
   ]
  },
  {
   "cell_type": "code",
   "execution_count": 10,
   "id": "b6e33cf8-3142-4ab6-a5a3-189ceb155985",
   "metadata": {},
   "outputs": [
    {
     "name": "stdout",
     "output_type": "stream",
     "text": [
      "VendorID,lpep_pickup_datetime,lpep_dropoff_datetime,store_and_fwd_flag,RatecodeID,PULocationID,DOLocationID,passenger_count,trip_distance,fare_amount,extra,mta_tax,tip_amount,tolls_amount,ehail_fee,improvement_surcharge,total_amount,payment_type,trip_type,congestion_surcharge\n",
      "2,2019-09-01 00:10:53,2019-09-01 00:23:46,N,1,65,189,5,2.00,10.5,0.5,0.5,2.36,0,,0.3,14.16,1,1,0\n",
      "2,2019-09-01 00:31:22,2019-09-01 00:44:37,N,1,97,225,5,3.20,12,0.5,0.5,0,0,,0.3,13.3,2,1,0\n",
      "2,2019-09-01 00:50:24,2019-09-01 01:03:20,N,1,37,61,5,2.99,12,0.5,0.5,0,0,,0.3,13.3,2,1,0\n",
      "2,2019-09-01 00:27:06,2019-09-01 00:33:22,N,1,145,112,1,1.73,7.5,0.5,0.5,1.5,0,,0.3,10.3,1,1,0\n",
      "2,2019-09-01 00:43:23,2019-09-01 00:59:54,N,1,112,198,1,3.42,14,0.5,0.5,3.06,0,,0.3,18.36,1,1,0\n",
      "2,2019-09-01 00:55:37,2019-09-01 01:17:02,N,1,7,41,1,6.26,21,0.5,0.5,0,6.12,,0.3,28.42,2,1,0\n",
      "2,2019-09-01 00:28:55,2019-09-01 00:52:09,N,1,33,37,1,4.34,18,0.5,0.5,3.86,0,,0.3,23.16,1,1,0\n",
      "1,2019-09-01 00:03:13,2019-09-01 00:03:32,N,1,55,55,1,1.20,2.5,0.5,0.5,0,0,,0.3,3.8,3,1,0\n",
      "1,2019-09-01 00:15:28,2019-09-01 00:43:22,N,1,55,89,1,.00,22.2,0,0.5,0,0,,0.3,23,1,1,0\n",
      "2,2019-09-01 00:29:16,2019-09-01 00:30:15,N,1,17,17,1,.14,2.5,0.5,0.5,0,0,,0.3,3\u001b[7mdata/green_tripdata_2019-09.csv\u001b[m\u001b[K\u0007\u001b[H\u001b[2J\u001b[H\u001b[H\u001b[2J\u001b[HVendorID,lpep_pickup_datetime,lpep_dropoff_datetime,store_and_fwd_flag,RatecodeID,PULocationID,DOLocationID,passenger_count,trip_distance,fare_amount,extra,mta_tax,tip_amount,tolls_amount,ehail_fee,improvement_surcharge,total_amount,payment_type,trip_type,congestion_surcharge\n",
      "2,2019-09-01 00:10:53,2019-09-01 00:23:46,N,1,65,189,5,2.00,10.5,0.5,0.5,2.36,0,,0.3,14.16,1,1,0\n",
      "2,2019-09-01 00:31:22,2019-09-01 00:44:37,N,1,97,225,5,3.20,12,0.5,0.5,0,0,,0.3,13.3,2,1,0\n",
      "2,2019-09-01 00:50:24,2019-09-01 01:03:20,N,1,37,61,5,2.99,12,0.5,0.5,0,0,,0.3,13.3,2,1,0\n",
      "2,2019-09-01 00:27:06,2019-09-01 00:33:22,N,1,145,112,1,1.73,7.5,0.5,0.5,1.5,0,,0.3,10.3,1,1,0\n",
      "2,2019-09-01 00:43:23,2019-09-01 00:59:54,N,1,112,198,1,3.42,14,0.5,0.5,3.06,0,,0.3,18.36,1,1,0\n",
      "2,2019-09-01 00:55:37,2019-09-01 01:17:02,N,1,7,41,1,6.26,21,0.5,0.5,0,6.12,,0.3,28.42,2,1,0\n",
      "2,2019-09-01 00:28:55,2019-09-01 00:52:09,N,1,33,37,1,4.34,18,0.5,0.5,3.86,0,,0.3,23.16,1,1,0\n",
      "1,2019-09-01 00:03:13,2019-09-01 00:03:32,N,1,55,55,1,1.20,2.5,0.5,0.5,0,0,,0.3,3.8,3,1,0\n",
      "1,2019-09-01 00:15:28,2019-09-01 00:43:22,N,1,55,89,1,.00,22.2,0,0.5,0,0,,0.3,23,1,1,0\n",
      "2,2019-09-01 00:29:16,2019-09-01 00:30:15,N,1,17,17,1,.14,2.5,0.5,0.5,0,0,,0.3,3:\u001b[K"
     ]
    }
   ],
   "source": [
    "! less \"data/green_tripdata_2019-09.csv\""
   ]
  },
  {
   "cell_type": "code",
   "execution_count": 12,
   "id": "fef19c2d-f191-4485-a5d2-f302d2c4dd7c",
   "metadata": {},
   "outputs": [
    {
     "name": "stdout",
     "output_type": "stream",
     "text": [
      "449064 data/green_tripdata_2019-09.csv\n"
     ]
    }
   ],
   "source": [
    "! wc -l \"data/green_tripdata_2019-09.csv\""
   ]
  },
  {
   "cell_type": "code",
   "execution_count": null,
   "id": "f8ecc621-9e56-4c2d-bf7f-f79a5cdc9a3c",
   "metadata": {},
   "outputs": [],
   "source": []
  }
 ],
 "metadata": {
  "kernelspec": {
   "display_name": "Python 3 (ipykernel)",
   "language": "python",
   "name": "python3"
  },
  "language_info": {
   "codemirror_mode": {
    "name": "ipython",
    "version": 3
   },
   "file_extension": ".py",
   "mimetype": "text/x-python",
   "name": "python",
   "nbconvert_exporter": "python",
   "pygments_lexer": "ipython3",
   "version": "3.12.1"
  }
 },
 "nbformat": 4,
 "nbformat_minor": 5
}
